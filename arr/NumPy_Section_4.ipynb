{
 "cells": [
  {
   "cell_type": "code",
   "execution_count": 1,
   "metadata": {},
   "outputs": [],
   "source": [
    "import numpy as np"
   ]
  },
  {
   "cell_type": "markdown",
   "metadata": {},
   "source": [
    "### Section 4. N차원 배열 정렬"
   ]
  },
  {
   "cell_type": "markdown",
   "metadata": {},
   "source": [
    "#### 4-1. 1차원 배열의 정렬"
   ]
  },
  {
   "cell_type": "code",
   "execution_count": 2,
   "metadata": {},
   "outputs": [
    {
     "name": "stdout",
     "output_type": "stream",
     "text": [
      "[6 8 2 5 8 1 1 2 1 5]\n"
     ]
    }
   ],
   "source": [
    "arr = np.random.randint(10,size=10)\n",
    "print(arr)"
   ]
  },
  {
   "cell_type": "code",
   "execution_count": 7,
   "metadata": {},
   "outputs": [
    {
     "name": "stdout",
     "output_type": "stream",
     "text": [
      "[1 1 1 2 2 5 5 6 8 8]\n",
      "[8 8 6 5 5 2 2 1 1 1]\n"
     ]
    }
   ],
   "source": [
    "# 오름차순\n",
    "print(np.sort(arr))\n",
    "\n",
    "# 내림차순\n",
    "\n",
    "print(np.sort(arr)[::-1])"
   ]
  },
  {
   "cell_type": "code",
   "execution_count": 9,
   "metadata": {},
   "outputs": [
    {
     "name": "stdout",
     "output_type": "stream",
     "text": [
      "[6 8 2 5 8 1 1 2 1 5]\n",
      "[1 1 1 2 2 5 5 6 8 8]\n",
      "[1 1 1 2 2 5 5 6 8 8]\n"
     ]
    }
   ],
   "source": [
    "print(arr) # 원본 배열에는 해당이 안됌\n",
    "\n",
    "# 정렬을 유지하려면\n",
    "arr = np.sort(arr)\n",
    "print(arr)\n",
    "arr.sort()\n",
    "print(arr)"
   ]
  }
 ],
 "metadata": {
  "kernelspec": {
   "display_name": "envev",
   "language": "python",
   "name": "python3"
  },
  "language_info": {
   "codemirror_mode": {
    "name": "ipython",
    "version": 3
   },
   "file_extension": ".py",
   "mimetype": "text/x-python",
   "name": "python",
   "nbconvert_exporter": "python",
   "pygments_lexer": "ipython3",
   "version": "3.12.4"
  }
 },
 "nbformat": 4,
 "nbformat_minor": 2
}
