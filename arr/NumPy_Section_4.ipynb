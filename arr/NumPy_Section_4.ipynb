{
 "cells": [
  {
   "cell_type": "code",
   "execution_count": 1,
   "metadata": {},
   "outputs": [],
   "source": [
    "import numpy as np"
   ]
  },
  {
   "cell_type": "markdown",
   "metadata": {},
   "source": [
    "### Section 4. N차원 배열 정렬"
   ]
  },
  {
   "cell_type": "markdown",
   "metadata": {},
   "source": [
    "#### 4-1. 1차원 배열의 정렬"
   ]
  },
  {
   "cell_type": "code",
   "execution_count": 2,
   "metadata": {},
   "outputs": [
    {
     "name": "stdout",
     "output_type": "stream",
     "text": [
      "[6 8 2 5 8 1 1 2 1 5]\n"
     ]
    }
   ],
   "source": [
    "arr = np.random.randint(10,size=10)\n",
    "print(arr)"
   ]
  },
  {
   "cell_type": "code",
   "execution_count": 7,
   "metadata": {},
   "outputs": [
    {
     "name": "stdout",
     "output_type": "stream",
     "text": [
      "[1 1 1 2 2 5 5 6 8 8]\n",
      "[8 8 6 5 5 2 2 1 1 1]\n"
     ]
    }
   ],
   "source": [
    "# 오름차순\n",
    "print(np.sort(arr))\n",
    "\n",
    "# 내림차순\n",
    "\n",
    "print(np.sort(arr)[::-1])"
   ]
  },
  {
   "cell_type": "code",
   "execution_count": 9,
   "metadata": {},
   "outputs": [
    {
     "name": "stdout",
     "output_type": "stream",
     "text": [
      "[6 8 2 5 8 1 1 2 1 5]\n",
      "[1 1 1 2 2 5 5 6 8 8]\n",
      "[1 1 1 2 2 5 5 6 8 8]\n"
     ]
    }
   ],
   "source": [
    "print(arr) # 원본 배열에는 해당이 안됌\n",
    "\n",
    "# 정렬을 유지하려면\n",
    "arr = np.sort(arr)\n",
    "print(arr)\n",
    "arr.sort()\n",
    "print(arr)"
   ]
  },
  {
   "cell_type": "markdown",
   "metadata": {},
   "source": [
    "#### 4-2. 2차원 배열의 정렬"
   ]
  },
  {
   "cell_type": "code",
   "execution_count": 12,
   "metadata": {},
   "outputs": [],
   "source": [
    "arr = np.random.randint(15, size=(3,4))"
   ]
  },
  {
   "cell_type": "code",
   "execution_count": 18,
   "metadata": {},
   "outputs": [
    {
     "name": "stdout",
     "output_type": "stream",
     "text": [
      "[[ 1  0 10  1]\n",
      " [ 2  9 10 10]\n",
      " [13 11 14 12]]\n",
      "[ 0  1  1  2  9 10 10 10 11 12 13 14]\n"
     ]
    }
   ],
   "source": [
    "print(np.sort(arr, axis=0))\n",
    "print(np.sort(arr, axis=None))"
   ]
  },
  {
   "cell_type": "code",
   "execution_count": 19,
   "metadata": {},
   "outputs": [
    {
     "name": "stdout",
     "output_type": "stream",
     "text": [
      "[[10 11 13 14]\n",
      " [ 0  1  2 10]\n",
      " [ 1  9 10 12]]\n",
      "[[3 1 0 2]\n",
      " [1 3 0 2]\n",
      " [0 1 2 3]]\n"
     ]
    }
   ],
   "source": [
    "# argsort()\n",
    "print(np.sort(arr, axis=1))\n",
    "print(np.argsort(arr,axis=1))"
   ]
  },
  {
   "cell_type": "markdown",
   "metadata": {},
   "source": [
    "-  이해 힘들어서 https://sofee.tistory.com/13 블로그 참고\n",
    "1. argsort() -> 정렬 후 인덱스 반환"
   ]
  }
 ],
 "metadata": {
  "kernelspec": {
   "display_name": "envev",
   "language": "python",
   "name": "python3"
  },
  "language_info": {
   "codemirror_mode": {
    "name": "ipython",
    "version": 3
   },
   "file_extension": ".py",
   "mimetype": "text/x-python",
   "name": "python",
   "nbconvert_exporter": "python",
   "pygments_lexer": "ipython3",
   "version": "3.12.7"
  }
 },
 "nbformat": 4,
 "nbformat_minor": 2
}
