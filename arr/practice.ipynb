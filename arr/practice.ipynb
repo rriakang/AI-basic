{
 "cells": [
  {
   "cell_type": "code",
   "execution_count": 2,
   "metadata": {},
   "outputs": [
    {
     "name": "stdout",
     "output_type": "stream",
     "text": [
      "[1 2 3]\n",
      "[[1 2 3]\n",
      " [4 5 6]]\n"
     ]
    }
   ],
   "source": [
    "import numpy as np\n",
    "\n",
    "#1차원 배열\n",
    "arr = np.array([1,2,3])\n",
    "print(arr)\n",
    "\n",
    "#2차원 배열\n",
    "arr = np.array([[1,2,3],[4,5,6]])\n",
    "print(arr)\n"
   ]
  },
  {
   "cell_type": "code",
   "execution_count": 4,
   "metadata": {},
   "outputs": [
    {
     "name": "stdout",
     "output_type": "stream",
     "text": [
      "(2, 3)\n",
      "[[1 2 3]\n",
      " [4 5 6]] 6\n"
     ]
    }
   ],
   "source": [
    "print(arr.shape)\n",
    "print(arr,arr.size)"
   ]
  },
  {
   "cell_type": "code",
   "execution_count": 6,
   "metadata": {},
   "outputs": [],
   "source": [
    "arr = np.array([1,2,3,34,34,2],dtype=np.int32)\n",
    "arr = np.array([1,2,3,34,4,4],dtype=np.int64)"
   ]
  },
  {
   "cell_type": "code",
   "execution_count": 10,
   "metadata": {},
   "outputs": [
    {
     "name": "stdout",
     "output_type": "stream",
     "text": [
      "[[0. 0. 0.]\n",
      " [0. 0. 0.]]\n",
      "[[[0. 0. 0.]\n",
      "  [0. 0. 0.]]\n",
      "\n",
      " [[0. 0. 0.]\n",
      "  [0. 0. 0.]]]\n"
     ]
    }
   ],
   "source": [
    "arr = np.zeros([2,3])\n",
    "\n",
    "print(arr)\n",
    "\n",
    "arr = np.zeros([2,2,3])\n",
    "print(arr)"
   ]
  },
  {
   "cell_type": "code",
   "execution_count": 19,
   "metadata": {},
   "outputs": [
    {
     "name": "stdout",
     "output_type": "stream",
     "text": [
      "[[1. 1. 1. 1. 1.]\n",
      " [1. 1. 1. 1. 1.]\n",
      " [1. 1. 1. 1. 1.]\n",
      " [1. 1. 1. 1. 1.]]\n",
      "[[0. 1. 0. 0.]\n",
      " [0. 0. 1. 0.]\n",
      " [0. 0. 0. 1.]]\n"
     ]
    }
   ],
   "source": [
    "arr = np.ones([4,5])\n",
    "print(arr)\n",
    "\n",
    "arr = np.eye(3,4, k=1)\n",
    "print(arr)"
   ]
  },
  {
   "cell_type": "code",
   "execution_count": 14,
   "metadata": {},
   "outputs": [
    {
     "name": "stdout",
     "output_type": "stream",
     "text": [
      "[[5 5 5]\n",
      " [5 5 5]]\n",
      "[[1 1 1 1]\n",
      " [1 1 1 1]\n",
      " [1 1 1 1]]\n"
     ]
    }
   ],
   "source": [
    "arr = np.full((2,3),5)\n",
    "print(arr)\n",
    "\n",
    "arr = np.full((3,4),1)\n",
    "print(arr)"
   ]
  },
  {
   "cell_type": "code",
   "execution_count": 23,
   "metadata": {},
   "outputs": [
    {
     "name": "stdout",
     "output_type": "stream",
     "text": [
      "[[1. 1. 1. 1.]\n",
      " [1. 1. 1. 1.]\n",
      " [1. 1. 1. 1.]]\n",
      "[[1. 1. 1. 1.]\n",
      " [1. 1. 1. 1.]\n",
      " [1. 1. 1. 1.]]\n",
      "[[1. 1. 1. 1.]\n",
      " [1. 1. 1. 1.]\n",
      " [1. 1. 1. 1.]] float64\n",
      "[[1. 1. 1. 1.]\n",
      " [1. 1. 1. 1.]\n",
      " [1. 1. 1. 1.]] float64\n"
     ]
    }
   ],
   "source": [
    "arr = np.ones([3,4])\n",
    "print(arr)\n",
    "\n",
    "arr = np.ones_like(arr)\n",
    "\n",
    "print(arr)\n",
    "\n",
    "\n",
    "arr = np.ones([3,4])\n",
    "print(arr, arr.dtype)\n",
    "arr = np.ones_like(arr)\n",
    "print(arr,arr.dtype)"
   ]
  },
  {
   "cell_type": "code",
   "execution_count": 24,
   "metadata": {},
   "outputs": [
    {
     "name": "stdout",
     "output_type": "stream",
     "text": [
      "[0, 2, 4, 6, 8]\n"
     ]
    }
   ],
   "source": [
    "lst = list(range(0,9,2))\n",
    "print(lst)"
   ]
  },
  {
   "cell_type": "code",
   "execution_count": 34,
   "metadata": {},
   "outputs": [
    {
     "name": "stdout",
     "output_type": "stream",
     "text": [
      "[0 1 2 3 4 5 6 7 8]\n",
      "[ 3  4  5  6  7  8  9 10 11]\n",
      "[0 2 4 6 8]\n"
     ]
    }
   ],
   "source": [
    "arr = np.arange(9)\n",
    "print(arr)\n",
    "\n",
    "arr = np.arange(3,12)\n",
    "print(arr)\n",
    "\n",
    "arr = np.arange(stop=9, step=2, start=0)\n",
    "print(arr)\n"
   ]
  },
  {
   "cell_type": "code",
   "execution_count": 38,
   "metadata": {},
   "outputs": [
    {
     "name": "stdout",
     "output_type": "stream",
     "text": [
      "[ 0.          0.2020202   0.4040404   0.60606061  0.80808081  1.01010101\n",
      "  1.21212121  1.41414141  1.61616162  1.81818182  2.02020202  2.22222222\n",
      "  2.42424242  2.62626263  2.82828283  3.03030303  3.23232323  3.43434343\n",
      "  3.63636364  3.83838384  4.04040404  4.24242424  4.44444444  4.64646465\n",
      "  4.84848485  5.05050505  5.25252525  5.45454545  5.65656566  5.85858586\n",
      "  6.06060606  6.26262626  6.46464646  6.66666667  6.86868687  7.07070707\n",
      "  7.27272727  7.47474747  7.67676768  7.87878788  8.08080808  8.28282828\n",
      "  8.48484848  8.68686869  8.88888889  9.09090909  9.29292929  9.49494949\n",
      "  9.6969697   9.8989899  10.1010101  10.3030303  10.50505051 10.70707071\n",
      " 10.90909091 11.11111111 11.31313131 11.51515152 11.71717172 11.91919192\n",
      " 12.12121212 12.32323232 12.52525253 12.72727273 12.92929293 13.13131313\n",
      " 13.33333333 13.53535354 13.73737374 13.93939394 14.14141414 14.34343434\n",
      " 14.54545455 14.74747475 14.94949495 15.15151515 15.35353535 15.55555556\n",
      " 15.75757576 15.95959596 16.16161616 16.36363636 16.56565657 16.76767677\n",
      " 16.96969697 17.17171717 17.37373737 17.57575758 17.77777778 17.97979798\n",
      " 18.18181818 18.38383838 18.58585859 18.78787879 18.98989899 19.19191919\n",
      " 19.39393939 19.5959596  19.7979798  20.        ]\n"
     ]
    }
   ],
   "source": [
    "arr = np.linspace(0,20,100)\n",
    "print(arr)"
   ]
  }
 ],
 "metadata": {
  "kernelspec": {
   "display_name": "envev",
   "language": "python",
   "name": "python3"
  },
  "language_info": {
   "codemirror_mode": {
    "name": "ipython",
    "version": 3
   },
   "file_extension": ".py",
   "mimetype": "text/x-python",
   "name": "python",
   "nbconvert_exporter": "python",
   "pygments_lexer": "ipython3",
   "version": "3.12.7"
  }
 },
 "nbformat": 4,
 "nbformat_minor": 2
}
