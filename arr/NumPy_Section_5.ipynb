{
 "cells": [
  {
   "cell_type": "code",
   "execution_count": 1,
   "metadata": {},
   "outputs": [],
   "source": [
    "import numpy as np"
   ]
  },
  {
   "cell_type": "markdown",
   "metadata": {},
   "source": [
    "### Section 4. N차원 배열 형태 변경"
   ]
  },
  {
   "cell_type": "markdown",
   "metadata": {},
   "source": [
    "#### 5-1. 배열의 형태 변경 1: reshape()"
   ]
  },
  {
   "cell_type": "code",
   "execution_count": 8,
   "metadata": {},
   "outputs": [
    {
     "name": "stdout",
     "output_type": "stream",
     "text": [
      "[ 0  1  2  3  4  5  6  7  8  9 10 11] 1\n",
      "[[ 0  1  2  3]\n",
      " [ 4  5  6  7]\n",
      " [ 8  9 10 11]] 2\n",
      "[[[ 0  1]\n",
      "  [ 2  3]\n",
      "  [ 4  5]]\n",
      "\n",
      " [[ 6  7]\n",
      "  [ 8  9]\n",
      "  [10 11]]] 3\n",
      "[[[[ 0  1  2]]\n",
      "\n",
      "  [[ 3  4  5]]]\n",
      "\n",
      "\n",
      " [[[ 6  7  8]]\n",
      "\n",
      "  [[ 9 10 11]]]] 4\n"
     ]
    }
   ],
   "source": [
    "arr = np.arange(12)\n",
    "print(arr, arr.ndim)\n",
    "\n",
    "arr = arr.reshape((3,4))\n",
    "\n",
    "print(arr,arr.ndim)\n",
    "\n",
    "# 3차원 배열\n",
    "arr = arr.reshape((2,3,2))\n",
    "print(arr,arr.ndim)\n",
    "\n",
    "# 4차원 배열\n",
    "\n",
    "arr = arr.reshape((2,2,1,3))\n",
    "print(arr,arr.ndim)"
   ]
  },
  {
   "cell_type": "markdown",
   "metadata": {},
   "source": [
    "-  curse of dimensionality : 차원의 저주\n",
    "1. 데이터 학습을 위해 차원이 증가하면서 학습데이터 수가 차원의 수보다 적어져 성능이 저하되는 현상.\n",
    "2. 차원이 증가할 수록 개별 차원 내 학습할 데이터 수가 적어지는 현상 발생\n",
    "\n",
    "** 간단히 말해서, 차원이 증가함에 따라 모델의 성능이 안좋아지는 형상 **\n",
    "\n",
    "- 차원의 저주 문제에 치명적인 알고리즘이 KNN임"
   ]
  },
  {
   "cell_type": "markdown",
   "metadata": {},
   "source": [
    "#### 5-2. 배열의 형태 변경 2: resize(), ravel()"
   ]
  },
  {
   "cell_type": "code",
   "execution_count": 10,
   "metadata": {},
   "outputs": [
    {
     "name": "stdout",
     "output_type": "stream",
     "text": [
      "[ 0  1  2  3  4  5  6  7  8  9 10 11]\n"
     ]
    }
   ],
   "source": [
    "arr = np.arange(12)\n",
    "print(arr)"
   ]
  },
  {
   "cell_type": "code",
   "execution_count": 12,
   "metadata": {},
   "outputs": [
    {
     "name": "stdout",
     "output_type": "stream",
     "text": [
      "[[ 0  1  2  3]\n",
      " [ 4  5  6  7]\n",
      " [ 8  9 10 11]]\n"
     ]
    }
   ],
   "source": [
    "arr.resize(3,4)\n",
    "print(arr)"
   ]
  },
  {
   "cell_type": "code",
   "execution_count": 13,
   "metadata": {},
   "outputs": [
    {
     "name": "stdout",
     "output_type": "stream",
     "text": [
      "[ 0  1  2  3  4  5  6  7  8  9 10 11]\n"
     ]
    }
   ],
   "source": [
    "arr = arr.ravel()  # 1차원 배열로 변경\n",
    "print(arr)"
   ]
  },
  {
   "cell_type": "code",
   "execution_count": 15,
   "metadata": {},
   "outputs": [
    {
     "name": "stdout",
     "output_type": "stream",
     "text": [
      "[ 1  2  3  4  5  6  7  8  9 10 11 12]\n",
      "[[ 1  2  3  4]\n",
      " [ 5  6  7  8]\n",
      " [ 9 10 11 12]]\n"
     ]
    }
   ],
   "source": [
    "arr = np.arange(1,13)\n",
    "print(arr)\n",
    "\n",
    "arr = arr.reshape(3,-1)\n",
    "\n",
    "print(arr)"
   ]
  },
  {
   "cell_type": "code",
   "execution_count": 16,
   "metadata": {},
   "outputs": [
    {
     "name": "stdout",
     "output_type": "stream",
     "text": [
      "[[[ 1  2]\n",
      "  [ 3  4]]\n",
      "\n",
      " [[ 5  6]\n",
      "  [ 7  8]]\n",
      "\n",
      " [[ 9 10]\n",
      "  [11 12]]]\n"
     ]
    }
   ],
   "source": [
    "arr = arr.reshape(3,2,-1)\n",
    "print(arr)"
   ]
  },
  {
   "cell_type": "markdown",
   "metadata": {},
   "source": [
    "#### 5-3. 배열의 형태 변경 3 : expand_dims(),squeeze()"
   ]
  },
  {
   "cell_type": "code",
   "execution_count": 22,
   "metadata": {},
   "outputs": [
    {
     "name": "stdout",
     "output_type": "stream",
     "text": [
      "[1 2] (2,)\n",
      "[[1 2]] (1, 2)\n",
      "[[[1 2]]] (1, 1, 2)\n"
     ]
    }
   ],
   "source": [
    "# expand_dims()\n",
    "\n",
    "arr = np.array([1,2])\n",
    "print(arr, arr.shape)\n",
    "\n",
    "arr = np.expand_dims(arr,axis=0)\n",
    "print(arr,arr.shape)\n",
    "\n",
    "\n",
    "arr = np.expand_dims(arr,axis=1)\n",
    "print(arr,arr.shape)"
   ]
  },
  {
   "cell_type": "code",
   "execution_count": 26,
   "metadata": {},
   "outputs": [
    {
     "name": "stdout",
     "output_type": "stream",
     "text": [
      "[[1 2]] (1, 2) 2\n",
      "[1 2] (2,) 1\n",
      "[[[1]\n",
      "  [2]\n",
      "  [3]]] (1, 3, 1) 3\n",
      "[[1]\n",
      " [2]\n",
      " [3]] (3, 1) 2\n"
     ]
    }
   ],
   "source": [
    "# squeeze()\n",
    "# 차원 축소 함수\n",
    "arr = np.array([[1,2]])\n",
    "\n",
    "print(arr,arr.shape, arr.ndim)\n",
    "arr = np.squeeze(arr, axis=0)\n",
    "print(arr,arr.shape,arr.ndim)\n",
    "\n",
    "\n",
    "arr = np.array([[[1],\n",
    "                [2],\n",
    "                [3]]])\n",
    "\n",
    "print(arr,arr.shape,arr.ndim)\n",
    "arr = np.squeeze(arr,axis=0)\n",
    "print(arr,arr.shape,arr.ndim)"
   ]
  },
  {
   "cell_type": "code",
   "execution_count": 27,
   "metadata": {},
   "outputs": [
    {
     "name": "stdout",
     "output_type": "stream",
     "text": [
      "[[[1 2 3]]] (1, 1, 3) 3\n",
      "[[1 2 3]] (1, 3) 2\n"
     ]
    }
   ],
   "source": [
    "arr = np.array([[[1,2,3]]])\n",
    "\n",
    "print(arr,arr.shape,arr.ndim)\n",
    "\n",
    "arr = np.squeeze(arr,axis=1)\n",
    "print(arr,arr.shape,arr.ndim)"
   ]
  },
  {
   "cell_type": "markdown",
   "metadata": {},
   "source": [
    "#### 5-4. 전치행렬(Transpose)"
   ]
  },
  {
   "cell_type": "code",
   "execution_count": 29,
   "metadata": {},
   "outputs": [
    {
     "name": "stdout",
     "output_type": "stream",
     "text": [
      "[[1 2 3]\n",
      " [4 5 6]\n",
      " [7 8 9]] (3, 3) 2\n",
      "[[1 4 7]\n",
      " [2 5 8]\n",
      " [3 6 9]] (3, 3) 2\n"
     ]
    }
   ],
   "source": [
    "arr = np.array([[1,2,3],\n",
    "                [4,5,6],\n",
    "                [7,8,9]])\n",
    "\n",
    "print(arr, arr.shape,arr.ndim)\n",
    "\n",
    "arr = arr.T\n",
    "print(arr,arr.shape,arr.ndim)"
   ]
  },
  {
   "cell_type": "code",
   "execution_count": 31,
   "metadata": {},
   "outputs": [
    {
     "ename": "ValueError",
     "evalue": "shapes (3,2) and (3,2) not aligned: 2 (dim 1) != 3 (dim 0)",
     "output_type": "error",
     "traceback": [
      "\u001b[0;31m---------------------------------------------------------------------------\u001b[0m",
      "\u001b[0;31mValueError\u001b[0m                                Traceback (most recent call last)",
      "Cell \u001b[0;32mIn[31], line 7\u001b[0m\n\u001b[1;32m      1\u001b[0m arr \u001b[38;5;241m=\u001b[39m np\u001b[38;5;241m.\u001b[39marray([[\u001b[38;5;241m1\u001b[39m,\u001b[38;5;241m2\u001b[39m],\n\u001b[1;32m      2\u001b[0m                 [\u001b[38;5;241m3\u001b[39m,\u001b[38;5;241m4\u001b[39m],\n\u001b[1;32m      3\u001b[0m                 [\u001b[38;5;241m5\u001b[39m,\u001b[38;5;241m6\u001b[39m]])\n\u001b[1;32m      5\u001b[0m arr2 \u001b[38;5;241m=\u001b[39m np\u001b[38;5;241m.\u001b[39mfull((\u001b[38;5;241m3\u001b[39m,\u001b[38;5;241m2\u001b[39m),\u001b[38;5;241m2\u001b[39m)\n\u001b[0;32m----> 7\u001b[0m \u001b[38;5;28mprint\u001b[39m(\u001b[43marr\u001b[49m\u001b[38;5;241;43m.\u001b[39;49m\u001b[43mdot\u001b[49m\u001b[43m(\u001b[49m\u001b[43marr2\u001b[49m\u001b[43m)\u001b[49m)\n",
      "\u001b[0;31mValueError\u001b[0m: shapes (3,2) and (3,2) not aligned: 2 (dim 1) != 3 (dim 0)"
     ]
    }
   ],
   "source": [
    "arr = np.array([[1,2],\n",
    "                [3,4],\n",
    "                [5,6]])\n",
    "\n",
    "arr2 = np.full((3,2),2)\n",
    "\n",
    "print(arr.dot(arr2))"
   ]
  },
  {
   "cell_type": "markdown",
   "metadata": {},
   "source": [
    "위와 같이 오류가 발생하는이유는 두 행렬을 곱하려면 (m × n) * (n × p) 형태여야 된다."
   ]
  },
  {
   "cell_type": "code",
   "execution_count": 32,
   "metadata": {},
   "outputs": [
    {
     "name": "stdout",
     "output_type": "stream",
     "text": [
      "[[ 6  6  6]\n",
      " [14 14 14]\n",
      " [22 22 22]]\n"
     ]
    }
   ],
   "source": [
    "# 따라서 전치행렬 사용\n",
    "\n",
    "print((arr).dot(arr2.T))"
   ]
  }
 ],
 "metadata": {
  "kernelspec": {
   "display_name": "envev",
   "language": "python",
   "name": "python3"
  },
  "language_info": {
   "codemirror_mode": {
    "name": "ipython",
    "version": 3
   },
   "file_extension": ".py",
   "mimetype": "text/x-python",
   "name": "python",
   "nbconvert_exporter": "python",
   "pygments_lexer": "ipython3",
   "version": "3.12.4"
  }
 },
 "nbformat": 4,
 "nbformat_minor": 2
}
