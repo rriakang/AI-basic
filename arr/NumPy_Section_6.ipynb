{
 "cells": [
  {
   "cell_type": "code",
   "execution_count": 1,
   "metadata": {},
   "outputs": [],
   "source": [
    "import numpy as np"
   ]
  },
  {
   "cell_type": "markdown",
   "metadata": {},
   "source": [
    "### Section 6. N차원 배열의 병합"
   ]
  },
  {
   "cell_type": "markdown",
   "metadata": {},
   "source": [
    "#### 6-1. 배열에 원소 추가 및 삭제"
   ]
  },
  {
   "cell_type": "code",
   "execution_count": 3,
   "metadata": {},
   "outputs": [
    {
     "name": "stdout",
     "output_type": "stream",
     "text": [
      "[1, 2, 50, 3, 4, 5, 6, 7, 8]\n",
      "[ 1  2 50  3  4  5  6  7  8]\n"
     ]
    }
   ],
   "source": [
    "# python list\n",
    "arr = [1,2,3,4,5,6,7,8]\n",
    "arr.insert(2,50) # 삽입\n",
    "print(arr)\n",
    "\n",
    "\n",
    "# 1차원 배열\n",
    "arr = np.arange(1,9)\n",
    "arr = np.insert(arr,2,50)\n",
    "print(arr)"
   ]
  },
  {
   "cell_type": "code",
   "execution_count": 6,
   "metadata": {},
   "outputs": [
    {
     "name": "stdout",
     "output_type": "stream",
     "text": [
      "[[ 1  2  3  4]\n",
      " [ 5  6  7  8]\n",
      " [50 50 50 50]\n",
      " [ 9 10 11 12]]\n"
     ]
    }
   ],
   "source": [
    "# 2차원 배열\n",
    "arr = np.arange(1,13).reshape(3,4)\n",
    "arr = np.insert(arr,2,50,axis=0)\n",
    "\n",
    "print(arr)"
   ]
  },
  {
   "cell_type": "code",
   "execution_count": 8,
   "metadata": {},
   "outputs": [
    {
     "name": "stdout",
     "output_type": "stream",
     "text": [
      "[[ 1  2  3  4]\n",
      " [ 5  6  7  8]\n",
      " [ 9 10 11 12]]\n",
      "[[1 2 3 4]\n",
      " [5 6 7 8]]\n"
     ]
    }
   ],
   "source": [
    "# delete()\n",
    "arr = np.arange(1,13).reshape(3,4)\n",
    "print(arr)\n",
    "\n",
    "arr = np.delete(arr,2,axis=0)\n",
    "print(arr)"
   ]
  },
  {
   "cell_type": "markdown",
   "metadata": {},
   "source": [
    "#### 6-2. 배열 간의 병합"
   ]
  },
  {
   "cell_type": "code",
   "execution_count": 12,
   "metadata": {},
   "outputs": [
    {
     "name": "stdout",
     "output_type": "stream",
     "text": [
      "[[ 1  2  3  4]\n",
      " [ 5  6  7  8]\n",
      " [ 9 10 11 12]]\n",
      "[[13 14 15 16]\n",
      " [17 18 19 20]\n",
      " [21 22 23 24]]\n",
      "\n",
      "[[ 1  2  3  4]\n",
      " [ 5  6  7  8]\n",
      " [ 9 10 11 12]\n",
      " [13 14 15 16]\n",
      " [17 18 19 20]\n",
      " [21 22 23 24]]\n",
      "\n",
      "[[ 1  2  3  4 13 14 15 16]\n",
      " [ 5  6  7  8 17 18 19 20]\n",
      " [ 9 10 11 12 21 22 23 24]]\n",
      "\n"
     ]
    }
   ],
   "source": [
    "# append()\n",
    "\n",
    "arr1 = np.arange(1,13).reshape(3,4)\n",
    "arr2 = np.arange(13,25).reshape(3,4)\n",
    "\n",
    "print(arr1)\n",
    "print(arr2, end=\"\\n\\n\")\n",
    "\n",
    "# axis = 0\n",
    "arr3 = np.append(arr1,arr2, axis=0)\n",
    "print(arr3, end=\"\\n\\n\")\n",
    "\n",
    "# axis = 1\n",
    "arr3 = np.append(arr1,arr2, axis=1)\n",
    "print(arr3, end=\"\\n\\n\")"
   ]
  },
  {
   "cell_type": "code",
   "execution_count": 14,
   "metadata": {},
   "outputs": [
    {
     "name": "stdout",
     "output_type": "stream",
     "text": [
      "[[ 1  2  3]\n",
      " [ 4  5  6]\n",
      " [ 7  8  9]\n",
      " [10 11 12]]\n",
      "[[[ 1  2  3]\n",
      "  [ 4  5  6]]\n",
      "\n",
      " [[ 7  8  9]\n",
      "  [10 11 12]]]\n"
     ]
    }
   ],
   "source": [
    "# vstack() hstack()\n",
    "\n",
    "arr1 = np.arange(1,7).reshape(2,3)\n",
    "arr2 = np.arange(7,13).reshape(2,3)\n",
    "\n",
    "arr3 = np.vstack((arr1,arr2))\n",
    "\n",
    "print(arr3)\n",
    "\n",
    "arr3 = np.stack((arr1,arr2))\n",
    "\n",
    "print(arr3)"
   ]
  },
  {
   "cell_type": "code",
   "execution_count": 15,
   "metadata": {},
   "outputs": [
    {
     "name": "stdout",
     "output_type": "stream",
     "text": [
      "[[ 1  2  3  7  8  9]\n",
      " [ 4  5  6 10 11 12]]\n",
      "[[ 1  2  3]\n",
      " [ 4  5  6]\n",
      " [ 7  8  9]\n",
      " [10 11 12]]\n"
     ]
    }
   ],
   "source": [
    "# concatenate()\n",
    "\n",
    "arr1 = np.arange(1,7).reshape(2,3)\n",
    "arr2 = np.arange(7,13).reshape(2,3)\n",
    "\n",
    "arr3 = np.concatenate([arr1,arr2], axis=1)\n",
    "\n",
    "print(arr3)\n",
    "\n",
    "arr4 = np.concatenate([arr1,arr2],axis=0)\n",
    "print(arr4)\n"
   ]
  },
  {
   "cell_type": "markdown",
   "metadata": {},
   "source": [
    "#### 6-3. N차원 배열의 병합"
   ]
  },
  {
   "cell_type": "code",
   "execution_count": 25,
   "metadata": {},
   "outputs": [
    {
     "name": "stdout",
     "output_type": "stream",
     "text": [
      "[[ 1  2  3  4]\n",
      " [ 5  6  7  8]\n",
      " [ 9 10 11 12]]\n",
      "[array([[1, 2, 3, 4]]), array([[5, 6, 7, 8]]), array([[ 9, 10, 11, 12]])]\n",
      "[array([[1, 2, 3, 4]]), array([[5, 6, 7, 8]]), array([[ 9, 10, 11, 12]])]\n"
     ]
    }
   ],
   "source": [
    "# 2차원 배열\n",
    "arr = np.arange(1,13).reshape(3,4)\n",
    "print(arr)\n",
    "\n",
    "# vsplit() => axis = 0\n",
    "arr_vsplit = np.vsplit(arr,3)\n",
    "print(arr_vsplit)\n",
    "\n",
    "# hsplit() => axis = 1\n",
    "arr_hsplit = np.vsplit(arr,3)\n",
    "print(arr_hsplit)"
   ]
  },
  {
   "cell_type": "code",
   "execution_count": 26,
   "metadata": {},
   "outputs": [
    {
     "name": "stdout",
     "output_type": "stream",
     "text": [
      "[[[4 0 3 6 3 9 6 3]\n",
      "  [5 8 3 4 6 2 2 2]\n",
      "  [9 8 1 7 4 5 4 3]\n",
      "  [0 2 5 4 7 9 2 1]\n",
      "  [4 0 8 4 9 6 7 5]\n",
      "  [0 7 2 7 4 2 0 6]]\n",
      "\n",
      " [[5 2 2 4 7 1 5 9]\n",
      "  [9 7 1 4 3 7 7 8]\n",
      "  [8 4 4 2 5 2 7 8]\n",
      "  [7 4 7 2 7 7 7 3]\n",
      "  [3 0 5 5 6 2 3 4]\n",
      "  [4 9 7 4 9 4 0 6]]\n",
      "\n",
      " [[6 0 7 6 6 6 5 1]\n",
      "  [9 1 3 6 2 0 4 1]\n",
      "  [6 3 6 5 6 3 1 6]\n",
      "  [8 6 4 2 4 7 9 5]\n",
      "  [1 2 6 7 6 0 6 4]\n",
      "  [2 6 1 3 7 1 2 3]]\n",
      "\n",
      " [[3 3 1 6 4 7 2 5]\n",
      "  [1 3 8 9 0 2 4 1]\n",
      "  [8 3 5 3 4 8 2 2]\n",
      "  [6 6 3 3 8 8 0 8]\n",
      "  [4 1 2 7 8 3 6 8]\n",
      "  [2 1 3 6 4 6 0 8]]]\n"
     ]
    }
   ],
   "source": [
    "# 3차원 배열\n",
    "arr = np.random.randint(0,10,(4,6,8))\n",
    "print(arr)"
   ]
  },
  {
   "cell_type": "code",
   "execution_count": 27,
   "metadata": {},
   "outputs": [
    {
     "name": "stdout",
     "output_type": "stream",
     "text": [
      "[array([[[4, 0, 3, 6, 3, 9, 6, 3],\n",
      "        [5, 8, 3, 4, 6, 2, 2, 2],\n",
      "        [9, 8, 1, 7, 4, 5, 4, 3],\n",
      "        [0, 2, 5, 4, 7, 9, 2, 1],\n",
      "        [4, 0, 8, 4, 9, 6, 7, 5],\n",
      "        [0, 7, 2, 7, 4, 2, 0, 6]],\n",
      "\n",
      "       [[5, 2, 2, 4, 7, 1, 5, 9],\n",
      "        [9, 7, 1, 4, 3, 7, 7, 8],\n",
      "        [8, 4, 4, 2, 5, 2, 7, 8],\n",
      "        [7, 4, 7, 2, 7, 7, 7, 3],\n",
      "        [3, 0, 5, 5, 6, 2, 3, 4],\n",
      "        [4, 9, 7, 4, 9, 4, 0, 6]]]), array([[[6, 0, 7, 6, 6, 6, 5, 1],\n",
      "        [9, 1, 3, 6, 2, 0, 4, 1],\n",
      "        [6, 3, 6, 5, 6, 3, 1, 6],\n",
      "        [8, 6, 4, 2, 4, 7, 9, 5],\n",
      "        [1, 2, 6, 7, 6, 0, 6, 4],\n",
      "        [2, 6, 1, 3, 7, 1, 2, 3]],\n",
      "\n",
      "       [[3, 3, 1, 6, 4, 7, 2, 5],\n",
      "        [1, 3, 8, 9, 0, 2, 4, 1],\n",
      "        [8, 3, 5, 3, 4, 8, 2, 2],\n",
      "        [6, 6, 3, 3, 8, 8, 0, 8],\n",
      "        [4, 1, 2, 7, 8, 3, 6, 8],\n",
      "        [2, 1, 3, 6, 4, 6, 0, 8]]])]\n"
     ]
    }
   ],
   "source": [
    "arr_vsplit = np.vsplit(arr,2)\n",
    "print(arr_vsplit)"
   ]
  }
 ],
 "metadata": {
  "kernelspec": {
   "display_name": "envev",
   "language": "python",
   "name": "python3"
  },
  "language_info": {
   "codemirror_mode": {
    "name": "ipython",
    "version": 3
   },
   "file_extension": ".py",
   "mimetype": "text/x-python",
   "name": "python",
   "nbconvert_exporter": "python",
   "pygments_lexer": "ipython3",
   "version": "3.12.4"
  }
 },
 "nbformat": 4,
 "nbformat_minor": 2
}
