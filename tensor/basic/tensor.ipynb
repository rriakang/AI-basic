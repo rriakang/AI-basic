{
 "cells": [
  {
   "cell_type": "markdown",
   "metadata": {},
   "source": [
    "텐서 초기화와 데이터 타입"
   ]
  },
  {
   "cell_type": "code",
   "execution_count": 6,
   "metadata": {},
   "outputs": [
    {
     "name": "stdout",
     "output_type": "stream",
     "text": [
      "tensor([[0., 0.],\n",
      "        [0., 0.],\n",
      "        [0., 0.],\n",
      "        [0., 0.]])\n",
      "tensor([[0., 0.],\n",
      "        [0., 0.],\n",
      "        [0., 0.],\n",
      "        [0., 0.]])\n"
     ]
    }
   ],
   "source": [
    "# 초기화 되지않은 텐서\n",
    "import torch\n",
    "\n",
    "x = torch.empty(4,2)\n",
    "y = torch.empty(4,2)\n",
    "print(y)\n",
    "print(x)"
   ]
  },
  {
   "cell_type": "code",
   "execution_count": 8,
   "metadata": {},
   "outputs": [
    {
     "name": "stdout",
     "output_type": "stream",
     "text": [
      "tensor([[0.4654, 0.7644],\n",
      "        [0.5187, 0.0618],\n",
      "        [0.3957, 0.8585],\n",
      "        [0.4010, 0.3334]])\n"
     ]
    }
   ],
   "source": [
    "# 무작위\n",
    "x = torch.rand(4,2)\n",
    "print(x)"
   ]
  },
  {
   "cell_type": "code",
   "execution_count": 10,
   "metadata": {},
   "outputs": [
    {
     "name": "stdout",
     "output_type": "stream",
     "text": [
      "tensor([[0, 0],\n",
      "        [0, 0],\n",
      "        [0, 0],\n",
      "        [0, 0]])\n"
     ]
    }
   ],
   "source": [
    "# 데이터 타입(dtype)이 Long이고, 0으로 채워진 텐서\n",
    "x = torch.zeros(4,2, dtype=torch.long)\n",
    "print(x)"
   ]
  },
  {
   "cell_type": "code",
   "execution_count": 14,
   "metadata": {},
   "outputs": [
    {
     "name": "stdout",
     "output_type": "stream",
     "text": [
      "tensor([3.0000, 2.3000])\n",
      "tensor([[1., 1., 1., 1.],\n",
      "        [1., 1., 1., 1.]])\n",
      "tensor([[ 0.4786, -2.1607, -0.2683, -1.3029],\n",
      "        [-0.8486,  1.6719, -0.5788, -1.2189]])\n"
     ]
    }
   ],
   "source": [
    "#사용자가 입력한 값으로 텐서 초기화\n",
    "\n",
    "x = torch.tensor([3,2.3])\n",
    "\n",
    "print(x)\n",
    "\n",
    "x = torch.ones(2,4)\n",
    "print(x)\n",
    "\n",
    "# x와 같은 크기, float 타입, 무작위로 채워진 텐서\n",
    "x = torch.randn_like(x,dtype=torch.float32)\n",
    "print(x)"
   ]
  },
  {
   "cell_type": "code",
   "execution_count": 15,
   "metadata": {},
   "outputs": [
    {
     "name": "stdout",
     "output_type": "stream",
     "text": [
      "torch.Size([2, 4])\n"
     ]
    }
   ],
   "source": [
    "# 텐서의 크기 계산\n",
    "print(x.size())"
   ]
  }
 ],
 "metadata": {
  "kernelspec": {
   "display_name": "envev",
   "language": "python",
   "name": "python3"
  },
  "language_info": {
   "codemirror_mode": {
    "name": "ipython",
    "version": 3
   },
   "file_extension": ".py",
   "mimetype": "text/x-python",
   "name": "python",
   "nbconvert_exporter": "python",
   "pygments_lexer": "ipython3",
   "version": "3.12.7"
  }
 },
 "nbformat": 4,
 "nbformat_minor": 2
}
