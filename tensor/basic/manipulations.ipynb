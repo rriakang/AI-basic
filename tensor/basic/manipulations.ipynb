{
 "cells": [
  {
   "cell_type": "code",
   "execution_count": 1,
   "metadata": {},
   "outputs": [],
   "source": [
    "import torch"
   ]
  },
  {
   "cell_type": "markdown",
   "metadata": {},
   "source": [
    "## 텐서의 조작(manipulations)"
   ]
  },
  {
   "cell_type": "code",
   "execution_count": 6,
   "metadata": {},
   "outputs": [
    {
     "name": "stdout",
     "output_type": "stream",
     "text": [
      "tensor([[1., 2.],\n",
      "        [3., 4.]])\n",
      "tensor(1.)\n",
      "tensor(2.)\n",
      "tensor(3.)\n",
      "tensor(4.)\n",
      "tensor([2., 4.])\n",
      "tensor([1., 3.])\n",
      "tensor([3., 4.])\n",
      "tensor([1., 2.])\n",
      "tensor(2.)\n"
     ]
    }
   ],
   "source": [
    "x = torch.Tensor([[1,2],\n",
    "                  [3,4]])\n",
    "\n",
    "\n",
    "print(x)\n",
    "print(x[0,0])\n",
    "print(x[0,1])\n",
    "print(x[1,0])\n",
    "print(x[1,1])\n",
    "\n",
    "\n",
    "print(x[:,1])\n",
    "print(x[:,0])\n",
    "\n",
    "print(x[1,:])\n",
    "print(x[0,:])\n",
    "\n",
    "print(x[0][1])\n"
   ]
  },
  {
   "cell_type": "markdown",
   "metadata": {},
   "source": [
    "view : 텐서의 크기(size)나 모양(shape)을 변경\n",
    "- 기본적으로 변경 전과 후에 텐서 안의 원소 개수가 유지되어야 함\n",
    "- -1로 설정되면 계산을 통해 해당 크기값을 유추"
   ]
  },
  {
   "cell_type": "code",
   "execution_count": 9,
   "metadata": {},
   "outputs": [
    {
     "name": "stdout",
     "output_type": "stream",
     "text": [
      "tensor([[ 1.3887, -1.6392, -0.6708,  0.3801,  0.8243],\n",
      "        [-0.3623,  0.6363, -0.0326,  0.0766, -1.0314],\n",
      "        [-0.0656,  0.7681,  0.5157,  0.5263,  1.1322],\n",
      "        [ 1.5296, -1.1300,  1.8142, -1.2419,  2.8053]])\n",
      "tensor([ 1.3887, -1.6392, -0.6708,  0.3801,  0.8243, -0.3623,  0.6363, -0.0326,\n",
      "         0.0766, -1.0314, -0.0656,  0.7681,  0.5157,  0.5263,  1.1322,  1.5296,\n",
      "        -1.1300,  1.8142, -1.2419,  2.8053])\n",
      "tensor([[ 1.3887, -1.6392, -0.6708,  0.3801,  0.8243],\n",
      "        [-0.3623,  0.6363, -0.0326,  0.0766, -1.0314],\n",
      "        [-0.0656,  0.7681,  0.5157,  0.5263,  1.1322],\n",
      "        [ 1.5296, -1.1300,  1.8142, -1.2419,  2.8053]])\n"
     ]
    }
   ],
   "source": [
    "x = torch.randn(4,5)\n",
    "print(x)\n",
    "\n",
    "y = x.view(20)\n",
    "print(y)\n",
    "\n",
    "z = x.view(4,5)\n",
    "print(z) "
   ]
  }
 ],
 "metadata": {
  "kernelspec": {
   "display_name": "envev",
   "language": "python",
   "name": "python3"
  },
  "language_info": {
   "codemirror_mode": {
    "name": "ipython",
    "version": 3
   },
   "file_extension": ".py",
   "mimetype": "text/x-python",
   "name": "python",
   "nbconvert_exporter": "python",
   "pygments_lexer": "ipython3",
   "version": "3.12.7"
  }
 },
 "nbformat": 4,
 "nbformat_minor": 2
}
