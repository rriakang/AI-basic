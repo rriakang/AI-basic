{
 "cells": [
  {
   "cell_type": "markdown",
   "metadata": {},
   "source": [
    "## 텐서의 연산(Operations)\n",
    "- 텐서의 대한 수학 연산, 삼각함수, 비트 연산, 비교 연산, 집계 등 제공"
   ]
  },
  {
   "cell_type": "code",
   "execution_count": 15,
   "metadata": {},
   "outputs": [
    {
     "name": "stdout",
     "output_type": "stream",
     "text": [
      "tensor([[0.7423, 0.0062]])\n",
      "tensor([[0.7423, 0.0062]])\n",
      "tensor([[1., 1.]])\n",
      "tensor([[0., 0.]])\n",
      "tensor([[0.5000, 0.0062]])\n",
      "tensor([[0.7423, 0.0062]])\n",
      "tensor(0.0062)\n",
      "tensor(0.7423)\n",
      "tensor(0.3743)\n",
      "tensor(0.5205)\n",
      "tensor(0.0046)\n",
      "tensor([1, 2, 3])\n"
     ]
    }
   ],
   "source": [
    "import math\n",
    "import torch\n",
    "\n",
    "a = torch.rand(1,2) * 2 -1\n",
    "print(a)\n",
    "print(torch.abs(a))\n",
    "print(torch.ceil(a))\n",
    "print(torch.floor(a))\n",
    "print(torch.clamp(a, -0.5,0.5))\n",
    "\n",
    "print(a)\n",
    "print(torch.min(a))\n",
    "print(torch.max(a))\n",
    "print(torch.mean(a))\n",
    "print(torch.std(a))\n",
    "print(torch.prod(a))\n",
    "print(torch.unique(torch.tensor([1,2,3,1,2,2,])))\n"
   ]
  },
  {
   "cell_type": "markdown",
   "metadata": {},
   "source": [
    "max와 min은 dim 인자를 줄 경우 argmax와 argmin도 함께 리턴\n",
    "- argmax : 최대값을 가진 인덱스\n",
    "- argmin : 최소값을 가진 인덱스"
   ]
  },
  {
   "cell_type": "code",
   "execution_count": 17,
   "metadata": {},
   "outputs": [
    {
     "name": "stdout",
     "output_type": "stream",
     "text": [
      "tensor([[0.2315, 0.8535],\n",
      "        [0.8517, 0.0766]])\n",
      "torch.return_types.max(\n",
      "values=tensor([0.8517, 0.8535]),\n",
      "indices=tensor([1, 0]))\n",
      "torch.return_types.max(\n",
      "values=tensor([0.8535, 0.8517]),\n",
      "indices=tensor([1, 0]))\n"
     ]
    }
   ],
   "source": [
    "x = torch.rand(2,2)\n",
    "print(x)\n",
    "print(x.max(dim=0))\n",
    "print(x.max(dim=1))"
   ]
  },
  {
   "cell_type": "code",
   "execution_count": 18,
   "metadata": {},
   "outputs": [
    {
     "name": "stdout",
     "output_type": "stream",
     "text": [
      "tensor([[0.2315, 0.8535],\n",
      "        [0.8517, 0.0766]])\n",
      "torch.return_types.min(\n",
      "values=tensor([0.2315, 0.0766]),\n",
      "indices=tensor([0, 1]))\n",
      "torch.return_types.min(\n",
      "values=tensor([0.2315, 0.0766]),\n",
      "indices=tensor([0, 1]))\n"
     ]
    }
   ],
   "source": [
    "print(x)\n",
    "print(x.min(dim=0))\n",
    "print(x.min(dim=1))"
   ]
  },
  {
   "cell_type": "code",
   "execution_count": 19,
   "metadata": {},
   "outputs": [
    {
     "name": "stdout",
     "output_type": "stream",
     "text": [
      "tensor([[0.5625, 0.6794],\n",
      "        [0.5650, 0.9051]])\n",
      "tensor([[0.5370, 0.0045],\n",
      "        [0.7313, 0.4383]])\n"
     ]
    }
   ],
   "source": [
    "x = torch.rand(2,2)\n",
    "print(x)\n",
    "y = torch.rand(2,2)\n",
    "print(y)"
   ]
  },
  {
   "cell_type": "code",
   "execution_count": 20,
   "metadata": {},
   "outputs": [
    {
     "name": "stdout",
     "output_type": "stream",
     "text": [
      "tensor([[1.0995, 0.6839],\n",
      "        [1.2962, 1.3433]])\n",
      "tensor([[1.0995, 0.6839],\n",
      "        [1.2962, 1.3433]])\n"
     ]
    }
   ],
   "source": [
    "# torch.add -> 덧셈\n",
    "print(x + y)\n",
    "print(torch.add(x,y))\n",
    "\n",
    "#두 개의 결과값은 동일"
   ]
  },
  {
   "cell_type": "markdown",
   "metadata": {},
   "source": [
    "결과 텐서를 인자로 제공\n"
   ]
  },
  {
   "cell_type": "code",
   "execution_count": 22,
   "metadata": {},
   "outputs": [
    {
     "name": "stdout",
     "output_type": "stream",
     "text": [
      "tensor([[1.0995, 0.6839],\n",
      "        [1.2962, 1.3433]])\n"
     ]
    },
    {
     "name": "stderr",
     "output_type": "stream",
     "text": [
      "/var/folders/vv/gytv0rd10j5_y7gs0ms_23500000gn/T/ipykernel_43682/7703770.py:2: UserWarning: An output with one or more elements was resized since it had shape [2, 4], which does not match the required output shape [2, 2]. This behavior is deprecated, and in a future PyTorch release outputs will not be resized unless they have zero elements. You can explicitly reuse an out tensor t by resizing it, inplace, to zero elements with t.resize_(0). (Triggered internally at /Users/runner/work/pytorch/pytorch/pytorch/aten/src/ATen/native/Resize.cpp:35.)\n",
      "  torch.add(x,y,out=result)\n"
     ]
    }
   ],
   "source": [
    "result = torch.empty(2,4)\n",
    "torch.add(x,y,out=result)\n",
    "print(result)"
   ]
  },
  {
   "cell_type": "markdown",
   "metadata": {},
   "source": [
    "##### in-place 방식\n",
    "- in-place 방식으로 텐서의 값을 변경하는 연산 뒤에는 _\"가 붙음\n",
    "- x.copy_(y), x.t_()"
   ]
  },
  {
   "cell_type": "code",
   "execution_count": 25,
   "metadata": {},
   "outputs": [
    {
     "name": "stdout",
     "output_type": "stream",
     "text": [
      "tensor([[0.5625, 0.6794],\n",
      "        [0.5650, 0.9051]])\n",
      "tensor([[1.6620, 1.3633],\n",
      "        [1.8612, 2.2484]])\n",
      "tensor([[2.2245, 2.0426],\n",
      "        [2.4262, 3.1534]])\n"
     ]
    }
   ],
   "source": [
    "print(x)\n",
    "print(y)\n",
    "\n",
    "y.add_(x)\n",
    "\n",
    "print(y)\n",
    "\n",
    "\n"
   ]
  },
  {
   "cell_type": "code",
   "execution_count": 33,
   "metadata": {},
   "outputs": [
    {
     "name": "stdout",
     "output_type": "stream",
     "text": [
      "tensor([[-1.6620, -1.3633],\n",
      "        [-1.8612, -2.2484]])\n",
      "tensor([[0.2529, 0.3326],\n",
      "        [0.2329, 0.2870]])\n",
      "tensor([[1.2513, 1.3877],\n",
      "        [1.3708, 2.8540]])\n",
      "tensor([[2.8996, 3.2913],\n",
      "        [3.4527, 4.0081]])\n",
      "torch.return_types.svd(\n",
      "U=tensor([[-0.6383, -0.7698],\n",
      "        [-0.7698,  0.6383]]),\n",
      "S=tensor([6.8720, 0.0375]),\n",
      "V=tensor([[-0.6561, -0.7547],\n",
      "        [-0.7547,  0.6561]]))\n"
     ]
    }
   ],
   "source": [
    "# 뺄셈\n",
    "\n",
    "print(torch.sub(x,y))\n",
    "\n",
    "#나눗셈\n",
    "\n",
    "print(torch.div(x,y))\n",
    "\n",
    "# 곱셈\n",
    "\n",
    "print(torch.mul(x,y))\n",
    "\n",
    "#내적\n",
    "print(torch.matmul(x,y))\n",
    "\n",
    "#토치 행렬분해\n",
    "z = torch.mm(x,y)\n",
    "print(torch.svd(z))"
   ]
  }
 ],
 "metadata": {
  "kernelspec": {
   "display_name": "envev",
   "language": "python",
   "name": "python3"
  },
  "language_info": {
   "codemirror_mode": {
    "name": "ipython",
    "version": 3
   },
   "file_extension": ".py",
   "mimetype": "text/x-python",
   "name": "python",
   "nbconvert_exporter": "python",
   "pygments_lexer": "ipython3",
   "version": "3.12.7"
  }
 },
 "nbformat": 4,
 "nbformat_minor": 2
}
